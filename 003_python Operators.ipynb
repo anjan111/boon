{
 "cells": [
  {
   "cell_type": "code",
   "execution_count": 1,
   "metadata": {},
   "outputs": [
    {
     "name": "stdout",
     "output_type": "stream",
     "text": [
      "34\n",
      "-45\n",
      "False\n",
      "-46\n"
     ]
    }
   ],
   "source": [
    "# Operators\n",
    "'''\n",
    "==>> its a symbols \n",
    "==>> which can do some kind of operation on data ( operands )\n",
    "'''\n",
    "# Operators classifies based on two ways \n",
    "'''\n",
    "##### Based on operands \n",
    "============>>>No of operands with in the operation\n",
    "1. Unary Operator\n",
    " ============>>> Single operator operating on single operand\n",
    " ======================>>> unary Plus              +\n",
    " ======================>>> unary minus             -\n",
    " ======================>>> Logical not            not\n",
    " ======================>>> Bitwise Not             ~\n",
    "2. Binary Operator\n",
    "\n",
    "\n",
    "##### Based On operations\n",
    "'''\n",
    "# Unary Operator\n",
    "print   + 34  # unary plus\n",
    "print   - 45  # unary minus\n",
    "print   not 56 # logical not\n",
    "print   ~ 45 # bitwise not "
   ]
  },
  {
   "cell_type": "code",
   "execution_count": 3,
   "metadata": {},
   "outputs": [
    {
     "name": "stdout",
     "output_type": "stream",
     "text": [
      "57\n",
      "33\n",
      "28\n",
      "1.60256410256\n"
     ]
    }
   ],
   "source": [
    "#Binary Operator\n",
    "print 12 + 45\n",
    "print 56 - 23\n",
    "print 4  *  7\n",
    "print 125.0 / 78"
   ]
  },
  {
   "cell_type": "code",
   "execution_count": 4,
   "metadata": {},
   "outputs": [
    {
     "name": "stdout",
     "output_type": "stream",
     "text": [
      "151\n",
      "143\n",
      "588\n",
      "3\n",
      "36\n",
      "36\n",
      "466948881\n",
      "466948881\n"
     ]
    }
   ],
   "source": [
    "# Based Operations\n",
    "'''\n",
    "====>>> Arithmetic Operators\n",
    "====>>> Relational Operators\n",
    "====>>> Special Operator\n",
    "====>>> Assignment operator\n",
    "====>>> Logical Operaor\n",
    "====>>> Bitwise Operators\n",
    "'''\n",
    "# Arithmetic Operator\n",
    "'''\n",
    "===>>  addition         +\n",
    "===>>  subtraction      -\n",
    "===>>  Multiplication   *\n",
    "===>>  devision         /\n",
    "===>>  Modulus          %\n",
    "===>>  Floor Devision   //\n",
    "===>>  Exponant         **\n",
    "'''\n",
    "a = 147\n",
    "b = 4\n",
    "print a+b\n",
    "print a - b\n",
    "print a*b\n",
    "print a%b\n",
    "print a // b\n",
    "print a / b\n",
    "print a ** b\n",
    "print a * a * a* a"
   ]
  },
  {
   "cell_type": "code",
   "execution_count": 5,
   "metadata": {},
   "outputs": [
    {
     "name": "stdout",
     "output_type": "stream",
     "text": [
      "151.0\n",
      "143.0\n",
      "588.0\n",
      "3.0\n",
      "36.0\n",
      "36.75\n",
      "466948881.0\n",
      "466948881.0\n"
     ]
    }
   ],
   "source": [
    "a = 147.0\n",
    "b = 4\n",
    "print a+b\n",
    "print a - b\n",
    "print a*b\n",
    "print a%b\n",
    "print a // b\n",
    "print a / b\n",
    "print a ** b\n",
    "print a * a * a* a"
   ]
  },
  {
   "cell_type": "code",
   "execution_count": 6,
   "metadata": {},
   "outputs": [
    {
     "name": "stdout",
     "output_type": "stream",
     "text": [
      "True\n",
      "True\n",
      "True\n",
      "True\n",
      "True\n",
      "True\n",
      "True\n",
      "True\n"
     ]
    }
   ],
   "source": [
    "# Relational Operator\n",
    "'''\n",
    "1. Lessthan             <\n",
    "2. greaterthan          >\n",
    "3. equal too            ==\n",
    "4. not equal to         !=\n",
    "5. lessthan or equal    <=\n",
    "6. greaterthan or equal  >=\n",
    "'''\n",
    "print  10 < 20\n",
    "print  20 > 10\n",
    "print  10 == 10\n",
    "print  10 != 30\n",
    "print  10 <= 10\n",
    "print  10 <= 20\n",
    "print  20 >= 20\n",
    "print  20 >= 10"
   ]
  },
  {
   "cell_type": "code",
   "execution_count": 7,
   "metadata": {},
   "outputs": [
    {
     "name": "stdout",
     "output_type": "stream",
     "text": [
      "enter num : 45\n",
      "45  is even  False\n"
     ]
    }
   ],
   "source": [
    "# wap find the given nummber is even or not\n",
    "num = input(\"enter num : \")\n",
    "print num,\" is even \", (num % 2  == 0)"
   ]
  },
  {
   "cell_type": "code",
   "execution_count": 8,
   "metadata": {},
   "outputs": [
    {
     "name": "stdout",
     "output_type": "stream",
     "text": [
      "enter num : 78\n",
      "78  is even  True\n"
     ]
    }
   ],
   "source": [
    "# wap find the given nummber is even or not\n",
    "num = input(\"enter num : \")\n",
    "print num,\" is even \", (num % 2  == 0)"
   ]
  },
  {
   "cell_type": "code",
   "execution_count": null,
   "metadata": {},
   "outputs": [],
   "source": [
    "# wap find the area of triangle\n",
    "# wap finf the perimter of triangle\n",
    "# wap find the area of ssquare & perimeter\n",
    "# wap find the area & perimter rectangle "
   ]
  }
 ],
 "metadata": {
  "kernelspec": {
   "display_name": "Python 2",
   "language": "python",
   "name": "python2"
  },
  "language_info": {
   "codemirror_mode": {
    "name": "ipython",
    "version": 2
   },
   "file_extension": ".py",
   "mimetype": "text/x-python",
   "name": "python",
   "nbconvert_exporter": "python",
   "pygments_lexer": "ipython2",
   "version": "2.7.16"
  }
 },
 "nbformat": 4,
 "nbformat_minor": 2
}
