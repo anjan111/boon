{
 "cells": [
  {
   "cell_type": "code",
   "execution_count": 1,
   "metadata": {},
   "outputs": [
    {
     "name": "stdout",
     "output_type": "stream",
     "text": [
      "34\n",
      "-45\n",
      "False\n",
      "-46\n"
     ]
    }
   ],
   "source": [
    "# Operators\n",
    "'''\n",
    "==>> its a symbols \n",
    "==>> which can do some kind of operation on data ( operands )\n",
    "'''\n",
    "# Operators classifies based on two ways \n",
    "'''\n",
    "##### Based on operands \n",
    "============>>>No of operands with in the operation\n",
    "1. Unary Operator\n",
    " ============>>> Single operator operating on single operand\n",
    " ======================>>> unary Plus              +\n",
    " ======================>>> unary minus             -\n",
    " ======================>>> Logical not            not\n",
    " ======================>>> Bitwise Not             ~\n",
    "2. Binary Operator\n",
    "\n",
    "\n",
    "##### Based On operations\n",
    "'''\n",
    "# Unary Operator\n",
    "print   + 34  # unary plus\n",
    "print   - 45  # unary minus\n",
    "print   not 56 # logical not\n",
    "print   ~ 45 # bitwise not "
   ]
  },
  {
   "cell_type": "code",
   "execution_count": 3,
   "metadata": {},
   "outputs": [
    {
     "name": "stdout",
     "output_type": "stream",
     "text": [
      "57\n",
      "33\n",
      "28\n",
      "1.60256410256\n"
     ]
    }
   ],
   "source": [
    "#Binary Operator\n",
    "print 12 + 45\n",
    "print 56 - 23\n",
    "print 4  *  7\n",
    "print 125.0 / 78"
   ]
  },
  {
   "cell_type": "code",
   "execution_count": 4,
   "metadata": {},
   "outputs": [
    {
     "name": "stdout",
     "output_type": "stream",
     "text": [
      "151\n",
      "143\n",
      "588\n",
      "3\n",
      "36\n",
      "36\n",
      "466948881\n",
      "466948881\n"
     ]
    }
   ],
   "source": [
    "# Based Operations\n",
    "'''\n",
    "====>>> Arithmetic Operators\n",
    "====>>> Relational Operators\n",
    "====>>> Special Operator\n",
    "====>>> Assignment operator\n",
    "====>>> Logical Operaor\n",
    "====>>> Bitwise Operators\n",
    "'''\n",
    "# Arithmetic Operator\n",
    "'''\n",
    "===>>  addition         +\n",
    "===>>  subtraction      -\n",
    "===>>  Multiplication   *\n",
    "===>>  devision         /\n",
    "===>>  Modulus          %\n",
    "===>>  Floor Devision   //\n",
    "===>>  Exponant         **\n",
    "'''\n",
    "a = 147\n",
    "b = 4\n",
    "print a+b\n",
    "print a - b\n",
    "print a*b\n",
    "print a%b\n",
    "print a // b\n",
    "print a / b\n",
    "print a ** b\n",
    "print a * a * a* a"
   ]
  },
  {
   "cell_type": "code",
   "execution_count": 5,
   "metadata": {},
   "outputs": [
    {
     "name": "stdout",
     "output_type": "stream",
     "text": [
      "151.0\n",
      "143.0\n",
      "588.0\n",
      "3.0\n",
      "36.0\n",
      "36.75\n",
      "466948881.0\n",
      "466948881.0\n"
     ]
    }
   ],
   "source": [
    "a = 147.0\n",
    "b = 4\n",
    "print a+b\n",
    "print a - b\n",
    "print a*b\n",
    "print a%b\n",
    "print a // b\n",
    "print a / b\n",
    "print a ** b\n",
    "print a * a * a* a"
   ]
  },
  {
   "cell_type": "code",
   "execution_count": 6,
   "metadata": {},
   "outputs": [
    {
     "name": "stdout",
     "output_type": "stream",
     "text": [
      "True\n",
      "True\n",
      "True\n",
      "True\n",
      "True\n",
      "True\n",
      "True\n",
      "True\n"
     ]
    }
   ],
   "source": [
    "# Relational Operator\n",
    "'''\n",
    "1. Lessthan             <\n",
    "2. greaterthan          >\n",
    "3. equal too            ==\n",
    "4. not equal to         !=\n",
    "5. lessthan or equal    <=\n",
    "6. greaterthan or equal  >=\n",
    "'''\n",
    "print  10 < 20\n",
    "print  20 > 10\n",
    "print  10 == 10\n",
    "print  10 != 30\n",
    "print  10 <= 10\n",
    "print  10 <= 20\n",
    "print  20 >= 20\n",
    "print  20 >= 10"
   ]
  },
  {
   "cell_type": "code",
   "execution_count": 7,
   "metadata": {},
   "outputs": [
    {
     "name": "stdout",
     "output_type": "stream",
     "text": [
      "enter num : 45\n",
      "45  is even  False\n"
     ]
    }
   ],
   "source": [
    "# wap find the given nummber is even or not\n",
    "num = input(\"enter num : \")\n",
    "print num,\" is even \", (num % 2  == 0)"
   ]
  },
  {
   "cell_type": "code",
   "execution_count": 8,
   "metadata": {},
   "outputs": [
    {
     "name": "stdout",
     "output_type": "stream",
     "text": [
      "enter num : 78\n",
      "78  is even  True\n"
     ]
    }
   ],
   "source": [
    "# wap find the given nummber is even or not\n",
    "num = input(\"enter num : \")\n",
    "print num,\" is even \", (num % 2  == 0)"
   ]
  },
  {
   "cell_type": "code",
   "execution_count": null,
   "metadata": {},
   "outputs": [],
   "source": [
    "# wap find the area of triangle\n",
    "# wap finf the perimter of triangle\n",
    "# wap find the area of ssquare & perimeter\n",
    "# wap find the area & perimter rectangle "
   ]
  },
  {
   "cell_type": "code",
   "execution_count": 1,
   "metadata": {},
   "outputs": [
    {
     "name": "stdout",
     "output_type": "stream",
     "text": [
      "100\n",
      "100\n",
      "300\n"
     ]
    }
   ],
   "source": [
    "#Assignment Operator\n",
    "a = 100 # constant to variable\n",
    "b = a   # variable to variable\n",
    "c = a+b*2 # expression to variable\n",
    "print a\n",
    "print b\n",
    "print c"
   ]
  },
  {
   "cell_type": "code",
   "execution_count": 2,
   "metadata": {},
   "outputs": [
    {
     "name": "stdout",
     "output_type": "stream",
     "text": [
      "10\n",
      "20\n",
      "30\n",
      "20\n"
     ]
    }
   ],
   "source": [
    "# compound assignment \n",
    "a = 10\n",
    "b = 20\n",
    "print a\n",
    "print b\n",
    "a = a + b # addition  then update\n",
    "print a\n",
    "print b"
   ]
  },
  {
   "cell_type": "code",
   "execution_count": 3,
   "metadata": {},
   "outputs": [
    {
     "name": "stdout",
     "output_type": "stream",
     "text": [
      "10\n",
      "20\n",
      "30\n",
      "20\n"
     ]
    }
   ],
   "source": [
    "# compound assignment \n",
    "a = 10\n",
    "b = 20\n",
    "print a\n",
    "print b\n",
    "a += b         #a = a + b # addition  then update\n",
    "print a\n",
    "print b"
   ]
  },
  {
   "cell_type": "code",
   "execution_count": 4,
   "metadata": {},
   "outputs": [
    {
     "name": "stdout",
     "output_type": "stream",
     "text": [
      "10\n",
      "20\n",
      "-10\n",
      "20\n"
     ]
    }
   ],
   "source": [
    "# compound assignment \n",
    "a = 10\n",
    "b = 20\n",
    "print a\n",
    "print b\n",
    "a -= b         #a = a - b # subtractio  then update\n",
    "print a\n",
    "print b"
   ]
  },
  {
   "cell_type": "code",
   "execution_count": 5,
   "metadata": {},
   "outputs": [
    {
     "name": "stdout",
     "output_type": "stream",
     "text": [
      "10\n",
      "20\n",
      "200\n",
      "20\n"
     ]
    }
   ],
   "source": [
    "# compound assignment \n",
    "a = 10\n",
    "b = 20\n",
    "print a\n",
    "print b\n",
    "a *= b         #a = a * b # multiplication  then update\n",
    "print a\n",
    "print b"
   ]
  },
  {
   "cell_type": "code",
   "execution_count": 7,
   "metadata": {},
   "outputs": [
    {
     "name": "stdout",
     "output_type": "stream",
     "text": [
      "106\n",
      "20\n",
      "5\n",
      "20\n"
     ]
    }
   ],
   "source": [
    "# compound assignment \n",
    "a = 106\n",
    "b = 20\n",
    "print a\n",
    "print b\n",
    "a /= b         #a = a / b #division  then update\n",
    "print a\n",
    "print b"
   ]
  },
  {
   "cell_type": "code",
   "execution_count": 8,
   "metadata": {},
   "outputs": [
    {
     "name": "stdout",
     "output_type": "stream",
     "text": [
      "106\n",
      "20\n",
      "6\n",
      "20\n"
     ]
    }
   ],
   "source": [
    "# compound assignment \n",
    "a = 106\n",
    "b = 20\n",
    "print a\n",
    "print b\n",
    "a %= b         #a = a % b #division  then update\n",
    "print a\n",
    "print b"
   ]
  },
  {
   "cell_type": "code",
   "execution_count": 9,
   "metadata": {},
   "outputs": [
    {
     "name": "stdout",
     "output_type": "stream",
     "text": [
      "True\n",
      "False\n"
     ]
    }
   ],
   "source": [
    "# special operators\n",
    "'''\n",
    "===>> Membership Operator\n",
    "=======>> It can check the one data element is the member of with in group of elements\n",
    "1.  in\n",
    "   ===>> True ----> available \n",
    "   ===>> False ---> not available\n",
    "2. not in\n",
    "   ===>> True ---->  not available \n",
    "   ===>> False ---> available\n",
    "\n",
    "\n",
    "===>> Identity Operator\n",
    "\n",
    "=====>> it checking both elements are same  memory loc or not\n",
    "\n",
    "1. is\n",
    "  \n",
    "   True ---->> same \n",
    "   False----> differnt \n",
    "   \n",
    "2. is not\n",
    "  \n",
    "   True ---->> Different\n",
    "   False---->  same\n",
    "   \n",
    "\n",
    "'''\n",
    "a = [3,6,0,4,67]\n",
    "b = 56\n",
    "c = 4\n",
    "print c in a\n",
    "print b in a"
   ]
  },
  {
   "cell_type": "code",
   "execution_count": 10,
   "metadata": {},
   "outputs": [
    {
     "name": "stdout",
     "output_type": "stream",
     "text": [
      "False\n",
      "True\n"
     ]
    }
   ],
   "source": [
    "a = [3,6,0,4,67]\n",
    "b = 56\n",
    "c = 4\n",
    "print c not in a\n",
    "print b not in a"
   ]
  },
  {
   "cell_type": "code",
   "execution_count": 11,
   "metadata": {},
   "outputs": [
    {
     "name": "stdout",
     "output_type": "stream",
     "text": [
      "75172168\n",
      "75209416\n",
      "False\n",
      "47942496\n",
      "47942496\n",
      "True\n"
     ]
    }
   ],
   "source": [
    "a = [1,2,3]\n",
    "b = [1,2,3]\n",
    "print id(a)\n",
    "print id(b)\n",
    "print a is b # False\n",
    "\n",
    "a = 100\n",
    "b = 100\n",
    "print id(a) #####  -5  to 256 ---->>  \n",
    "print id(b)\n",
    "print a is b # True"
   ]
  },
  {
   "cell_type": "code",
   "execution_count": 12,
   "metadata": {},
   "outputs": [
    {
     "name": "stdout",
     "output_type": "stream",
     "text": [
      "47941032\n",
      "47941032\n"
     ]
    }
   ],
   "source": [
    "a = -5\n",
    "b = -5\n",
    "print id(a)\n",
    "print id(b)"
   ]
  },
  {
   "cell_type": "code",
   "execution_count": 13,
   "metadata": {},
   "outputs": [
    {
     "name": "stdout",
     "output_type": "stream",
     "text": [
      "75024928\n",
      "75025000\n"
     ]
    }
   ],
   "source": [
    "a = -6\n",
    "b = -6\n",
    "print id(a)\n",
    "print id(b)"
   ]
  },
  {
   "cell_type": "code",
   "execution_count": 14,
   "metadata": {},
   "outputs": [
    {
     "name": "stdout",
     "output_type": "stream",
     "text": [
      "47946720\n",
      "47946720\n"
     ]
    }
   ],
   "source": [
    "a = 256\n",
    "b = 256\n",
    "print id(a)\n",
    "print id(b)"
   ]
  },
  {
   "cell_type": "code",
   "execution_count": 15,
   "metadata": {},
   "outputs": [
    {
     "name": "stdout",
     "output_type": "stream",
     "text": [
      "75033592\n",
      "75024832\n"
     ]
    }
   ],
   "source": [
    "a = 257\n",
    "b = 257\n",
    "print id(a)\n",
    "print id(b)"
   ]
  },
  {
   "cell_type": "code",
   "execution_count": 16,
   "metadata": {},
   "outputs": [
    {
     "name": "stdout",
     "output_type": "stream",
     "text": [
      "47943408\n",
      "47943408\n"
     ]
    }
   ],
   "source": [
    "a = 145\n",
    "b = 145\n",
    "print id(a)\n",
    "print id(b)"
   ]
  },
  {
   "cell_type": "code",
   "execution_count": 17,
   "metadata": {},
   "outputs": [
    {
     "name": "stdout",
     "output_type": "stream",
     "text": [
      "81156232\n",
      "53699080\n",
      "True\n",
      "47942496\n",
      "47942496\n",
      "False\n"
     ]
    }
   ],
   "source": [
    "a = [1,2,3]\n",
    "b = [1,2,3]\n",
    "print id(a)\n",
    "print id(b)\n",
    "print a is not b # True\n",
    "\n",
    "a = 100\n",
    "b = 100\n",
    "print id(a) #####  -5  to 256 ---->>  \n",
    "print id(b)\n",
    "print a is not b # False"
   ]
  },
  {
   "cell_type": "code",
   "execution_count": 29,
   "metadata": {},
   "outputs": [
    {
     "name": "stdout",
     "output_type": "stream",
     "text": [
      "a :  10.05455\n",
      "a : 10\n",
      "a : 10.054550\n",
      "a : 10.055\n",
      " a : 10.05455 and  34\n"
     ]
    }
   ],
   "source": [
    "a = 10.05455\n",
    "b = 34\n",
    "print \"a : \",a\n",
    "print \"a : %d\"%a\n",
    "print \"a : %f\"%a\n",
    "print \"a : %.3f\"%a\n",
    "print \" a : {1} and  {0}\".format(b,a)"
   ]
  },
  {
   "cell_type": "code",
   "execution_count": null,
   "metadata": {},
   "outputs": [],
   "source": [
    "# Logical operators\n",
    "'''\n",
    "==>> Based On logic\n",
    "==>> There are 3logical Operators\n",
    "1. Logical AND --->>   and\n",
    "\n",
    "=====>>>\n",
    "in1    in2   --->  and \n",
    "False  False --->  False\n",
    "False  True  --->  False\n",
    "True   False --->  False\n",
    "True   True  --->  True\n",
    "\n",
    "\n",
    "\n",
    "\n",
    "2. Logical OR ---->>   or\n",
    "3. Logical NOT---->>   not\n",
    "'''"
   ]
  },
  {
   "cell_type": "code",
   "execution_count": 1,
   "metadata": {},
   "outputs": [
    {
     "name": "stdout",
     "output_type": "stream",
     "text": [
      "False\n",
      "False\n",
      "False\n",
      "True\n"
     ]
    }
   ],
   "source": [
    "print False and True\n",
    "print False and False\n",
    "print True and False\n",
    "print True and True"
   ]
  },
  {
   "cell_type": "code",
   "execution_count": 2,
   "metadata": {},
   "outputs": [
    {
     "name": "stdout",
     "output_type": "stream",
     "text": [
      "45.56\n",
      "34\n",
      "0.0\n",
      "0.0\n",
      "[]\n"
     ]
    }
   ],
   "source": [
    "'''\n",
    "-->  int \n",
    "0 ---> False\n",
    "+ve/-ve --> True\n",
    "\n",
    "--->>>> Float \n",
    "0.0 --->  False\n",
    "+ve/-ve --> True\n",
    "\n",
    "---->> complex\n",
    "0j---> False\n",
    "0+0j--> False\n",
    "x+yj -->(any one X,y non Zeros )  --> True\n",
    "\n",
    "--->>> None  ---> Fasle\n",
    "---->>> str, list, tuple, set, dict --> len is 0 --> False\n",
    "'''\n",
    "\n",
    "# Logical AND \n",
    "'''\n",
    "input1 is False then output is input 1\n",
    "input1 is True then output is  input 2\n",
    "'''\n",
    "print  34 and 45.56\n",
    "print  0.00001 and 34\n",
    "print  0.0  and 89\n",
    "print 45  and 0.0\n",
    "print []  and 56\n"
   ]
  },
  {
   "cell_type": "code",
   "execution_count": 3,
   "metadata": {},
   "outputs": [
    {
     "name": "stdout",
     "output_type": "stream",
     "text": [
      "34\n",
      "1e-05\n",
      "89\n",
      "45\n",
      "56\n"
     ]
    }
   ],
   "source": [
    "# 2. Logical OR ---->>   or\n",
    "'''\n",
    "input1 is False then output is input 2\n",
    "input1 is True then output is  input 1\n",
    "'''\n",
    "print  34 or 45.56\n",
    "print  0.00001 or 34\n",
    "print  0.0  or  89\n",
    "print 45  or 0.0\n",
    "print []  or 56"
   ]
  },
  {
   "cell_type": "code",
   "execution_count": 4,
   "metadata": {},
   "outputs": [
    {
     "name": "stdout",
     "output_type": "stream",
     "text": [
      "False\n",
      "True\n"
     ]
    }
   ],
   "source": [
    "# Logical NOT \n",
    "print not 34\n",
    "print not 0.0"
   ]
  },
  {
   "cell_type": "code",
   "execution_count": null,
   "metadata": {},
   "outputs": [],
   "source": [
    "#### what is number system\n",
    "#### convert decimal number system to binary system\n",
    "'''\n",
    "45 ---->> binary ?\n",
    "69 ---->> binary ?\n",
    "'''\n",
    "###  convert binary system to decimal number system\n",
    "'''\n",
    "0b10111011 --->> decimal number ?\n",
    "\n",
    "'''"
   ]
  },
  {
   "cell_type": "code",
   "execution_count": 2,
   "metadata": {},
   "outputs": [
    {
     "name": "stdout",
     "output_type": "stream",
     "text": [
      "8\n"
     ]
    }
   ],
   "source": [
    "# bitwise Operator \n",
    "'''\n",
    "===>> input decimal ---->  Binary input\n",
    "===>> We should the bitwise operation\n",
    "===>> Binary result ---->  Decimal result\n",
    "'''\n",
    "# bitwise AND   &\n",
    "print  24 & 12"
   ]
  },
  {
   "cell_type": "code",
   "execution_count": 3,
   "metadata": {},
   "outputs": [
    {
     "name": "stdout",
     "output_type": "stream",
     "text": [
      "28\n"
     ]
    }
   ],
   "source": [
    "# bitwise OR   |\n",
    "print  24 | 12"
   ]
  },
  {
   "cell_type": "code",
   "execution_count": 4,
   "metadata": {},
   "outputs": [
    {
     "name": "stdout",
     "output_type": "stream",
     "text": [
      "20\n"
     ]
    }
   ],
   "source": [
    "# bitwise XOR   ^\n",
    "print  24 ^ 12"
   ]
  },
  {
   "cell_type": "code",
   "execution_count": 6,
   "metadata": {},
   "outputs": [
    {
     "name": "stdout",
     "output_type": "stream",
     "text": [
      "192\n",
      "268\n"
     ]
    }
   ],
   "source": [
    "# bitwise Leftshift   num  << no_bits\n",
    "print 24  << 3\n",
    "print 67 << 2"
   ]
  },
  {
   "cell_type": "code",
   "execution_count": 7,
   "metadata": {},
   "outputs": [
    {
     "name": "stdout",
     "output_type": "stream",
     "text": [
      "8\n"
     ]
    }
   ],
   "source": [
    "#bitwise rightshift    num  >> no_bit\n",
    "print 67 >> 3"
   ]
  },
  {
   "cell_type": "code",
   "execution_count": 9,
   "metadata": {},
   "outputs": [
    {
     "name": "stdout",
     "output_type": "stream",
     "text": [
      "-57\n",
      "77\n"
     ]
    }
   ],
   "source": [
    "#bitwise Not   ~num ===>>   - (num + 1)\n",
    "print ~ 56  #   - (56 +1) ===>>  -57\n",
    "print ~ -78 #   - (-78 +1)===>> -(-77)==>> 77"
   ]
  },
  {
   "cell_type": "code",
   "execution_count": null,
   "metadata": {},
   "outputs": [],
   "source": []
  }
 ],
 "metadata": {
  "kernelspec": {
   "display_name": "Python 2",
   "language": "python",
   "name": "python2"
  },
  "language_info": {
   "codemirror_mode": {
    "name": "ipython",
    "version": 2
   },
   "file_extension": ".py",
   "mimetype": "text/x-python",
   "name": "python",
   "nbconvert_exporter": "python",
   "pygments_lexer": "ipython2",
   "version": "2.7.16"
  }
 },
 "nbformat": 4,
 "nbformat_minor": 2
}
