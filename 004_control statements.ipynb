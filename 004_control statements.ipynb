{
 "cells": [
  {
   "cell_type": "code",
   "execution_count": 3,
   "metadata": {},
   "outputs": [
    {
     "name": "stdout",
     "output_type": "stream",
     "text": [
      "enter side 1 : 6\n",
      "enter side 2 : 8\n",
      "enter side 3 : 7\n",
      "area :  20.3331625676\n",
      "out of if\n"
     ]
    }
   ],
   "source": [
    "#  Control statements are used for to chnage the flow of execution of the program\n",
    "'''\n",
    "1. Conditional Statements\n",
    "\n",
    " ======>>>> the block of statements / statement can execute based on condition\n",
    " \n",
    "         1. simple if \n",
    "         2. if and else\n",
    "         3. elif ladder\n",
    "         4. Nested if\n",
    "\n",
    "2. Looping statements\n",
    "\n",
    "\n",
    "3. Control Keywords \n",
    "'''\n",
    "# simplle if \n",
    "'''\n",
    "if  Condtion  :\n",
    "    Statement\n",
    "    ---------\n",
    "    ---------\n",
    "    --------\n",
    "'''\n",
    "# wap find the area of triangle when the any one side is more than 5\n",
    "\n",
    "a = input(\"enter side 1 : \")\n",
    "b = input(\"enter side 2 : \")\n",
    "c = input(\"enter side 3 : \")\n",
    "if( a > 5 or b > 5 or c > 5):\n",
    "    s = (a+b+c)/2.0\n",
    "    area = (s*(s-a)*(s-b)*(s-c))**0.5\n",
    "    print \"area : \",area\n",
    "print \"out of if\""
   ]
  },
  {
   "cell_type": "code",
   "execution_count": 4,
   "metadata": {},
   "outputs": [
    {
     "name": "stdout",
     "output_type": "stream",
     "text": [
      "enter side 1 : 4\n",
      "enter side 2 : 3\n",
      "enter side 3 : 2\n",
      "out of if\n"
     ]
    }
   ],
   "source": [
    "a = input(\"enter side 1 : \")\n",
    "b = input(\"enter side 2 : \")\n",
    "c = input(\"enter side 3 : \")\n",
    "if( a > 5 or b > 5 or c > 5):\n",
    "    s = (a+b+c)/2.0\n",
    "    area = (s*(s-a)*(s-b)*(s-c))**0.5\n",
    "    print \"area : \",area\n",
    "print \"out of if\""
   ]
  },
  {
   "cell_type": "code",
   "execution_count": 5,
   "metadata": {},
   "outputs": [
    {
     "name": "stdout",
     "output_type": "stream",
     "text": [
      "enter side 1 : 4\n",
      "enter side 2 : 5\n",
      "enter side 3 : 7\n",
      "area :  9.79795897113\n",
      "out of if\n"
     ]
    }
   ],
   "source": [
    "a = input(\"enter side 1 : \")\n",
    "b = input(\"enter side 2 : \")\n",
    "c = input(\"enter side 3 : \")\n",
    "if( a > 5 or b > 5 or c > 5):\n",
    "    s = (a+b+c)/2.0\n",
    "    area = (s*(s-a)*(s-b)*(s-c))**0.5\n",
    "    print \"area : \",area\n",
    "print \"out of if\""
   ]
  },
  {
   "cell_type": "code",
   "execution_count": 6,
   "metadata": {},
   "outputs": [
    {
     "name": "stdout",
     "output_type": "stream",
     "text": [
      "enter side 1 : 7\n",
      "enter side 2 : 8\n",
      "enter side 3 : 9\n",
      "area :  26.83281573\n",
      "out of if\n"
     ]
    }
   ],
   "source": [
    "#wap find the all sides more the 5\n",
    "a = input(\"enter side 1 : \")\n",
    "b = input(\"enter side 2 : \")\n",
    "c = input(\"enter side 3 : \")\n",
    "if( a > 5 and b > 5 and c > 5):\n",
    "    s = (a+b+c)/2.0\n",
    "    area = (s*(s-a)*(s-b)*(s-c))**0.5\n",
    "    print \"area : \",area\n",
    "print \"out of if\""
   ]
  },
  {
   "cell_type": "code",
   "execution_count": 7,
   "metadata": {},
   "outputs": [
    {
     "name": "stdout",
     "output_type": "stream",
     "text": [
      "enter side 1 : 7\n",
      "enter side 2 : 8\n",
      "enter side 3 : 5\n",
      "out of if\n"
     ]
    }
   ],
   "source": [
    "#wap find the all sides more the 5\n",
    "a = input(\"enter side 1 : \")\n",
    "b = input(\"enter side 2 : \")\n",
    "c = input(\"enter side 3 : \")\n",
    "if( a > 5 and b > 5 and c > 5):\n",
    "    s = (a+b+c)/2.0\n",
    "    area = (s*(s-a)*(s-b)*(s-c))**0.5\n",
    "    print \"area : \",area\n",
    "print \"out of if\""
   ]
  },
  {
   "cell_type": "code",
   "execution_count": null,
   "metadata": {},
   "outputs": [],
   "source": [
    "# if and else \n",
    "'''\n",
    "if ( Cond):\n",
    "    Task1\n",
    "    -----\n",
    "    -----\n",
    "else:\n",
    "    Task2\n",
    "    ----\n",
    "    ----\n",
    "'''\n",
    "# wap find the area of triangle when all sides more than 5 other wise find perimeter\n",
    "# wap area of square when side is int other wise find the perimter of sqaure\n",
    "# wap find the given number is even or odd"
   ]
  },
  {
   "cell_type": "code",
   "execution_count": 8,
   "metadata": {},
   "outputs": [
    {
     "name": "stdout",
     "output_type": "stream",
     "text": [
      "True\n",
      "False\n"
     ]
    }
   ],
   "source": [
    "num = 123\n",
    "print isinstance(num,int)\n",
    "num = 12.03\n",
    "print isinstance(num,int)"
   ]
  },
  {
   "cell_type": "code",
   "execution_count": 11,
   "metadata": {},
   "outputs": [
    {
     "name": "stdout",
     "output_type": "stream",
     "text": [
      "enter side : 45.0\n",
      "peri :  180.0\n"
     ]
    }
   ],
   "source": [
    "side = input(\"enter side : \")\n",
    "if( isinstance(side,int)):\n",
    "    area = side ** 2\n",
    "    print\"area \",area\n",
    "else:\n",
    "    peri = 4*side\n",
    "    print \"peri : \",peri"
   ]
  },
  {
   "cell_type": "code",
   "execution_count": 2,
   "metadata": {},
   "outputs": [
    {
     "name": "stdout",
     "output_type": "stream",
     "text": [
      "enter exp : 6\n",
      "salary 8.2 lac \n"
     ]
    }
   ],
   "source": [
    "#elif ladder \n",
    "'''\n",
    "if( C1 ):\n",
    "    Task1\n",
    "elif(C2):\n",
    "    Task2\n",
    "elif(C3):\n",
    "    Task3\n",
    "elif(C4):\n",
    "    Task4\n",
    "elif(C5)\n",
    "    Task5\n",
    "-----\n",
    "-----\n",
    "elif(Cn):\n",
    "    Taskn\n",
    "else:\n",
    "    Task\n",
    "'''\n",
    "# wap fix the salary based on experinece\n",
    "exp = input(\"enter exp : \")\n",
    "if(exp > 0 and exp <= 2):\n",
    "    print \"salary 3.2 Lac\"\n",
    "elif(exp > 2 and exp <= 6):\n",
    "    print \"salary 8.2 lac \"\n",
    "elif(exp > 6 and exp <= 12):\n",
    "    print \"salary  15 lac  \"\n",
    "elif(exp > 12 and exp <= 20):\n",
    "    print \"salary 25 lac \"\n",
    "elif(exp > 20):\n",
    "    print \"salary 50 lac \"\n",
    "else:\n",
    "    print \"please enter proper exp\""
   ]
  },
  {
   "cell_type": "code",
   "execution_count": null,
   "metadata": {},
   "outputs": [],
   "source": [
    "# wap for grading system based on student perctangage."
   ]
  },
  {
   "cell_type": "code",
   "execution_count": 3,
   "metadata": {},
   "outputs": [
    {
     "name": "stdout",
     "output_type": "stream",
     "text": [
      "enter a : 45\n",
      "enter b : 90\n",
      "enter c : 23\n",
      "big :  90\n"
     ]
    }
   ],
   "source": [
    "# nested if \n",
    "#if ---> if ,elif , if and else\n",
    "#else -> if , elif , if and else\n",
    "#elif -> if , elif ,if and else\n",
    "# wap find the biggest number from 3 numbers\n",
    "a = input(\"enter a : \")\n",
    "b = input(\"enter b : \")\n",
    "c = input(\"enter c : \")\n",
    "if(a > b):\n",
    "    big = a\n",
    "    if(big < c):\n",
    "        big = c\n",
    "else:\n",
    "    big = b\n",
    "    if(big < c):\n",
    "        big = c\n",
    "print \"big : \",big\n"
   ]
  },
  {
   "cell_type": "code",
   "execution_count": 4,
   "metadata": {},
   "outputs": [
    {
     "name": "stdout",
     "output_type": "stream",
     "text": [
      "enter year : 2000\n",
      "2000 leap\n"
     ]
    }
   ],
   "source": [
    "# wap find the smallest number from 3 numbers \n",
    "# wap find the given year leap or not \n",
    "'''\n",
    "1900 --->> not leap\n",
    "2000 --->> leap\n",
    "2004 --->> leap\n",
    "2005 ---->> not leap\n",
    "'''\n",
    "year = input(\"enter year : \")\n",
    "if(year % 4 == 0):\n",
    "    if(year % 100 == 0):\n",
    "        if(year % 400 ==0):\n",
    "            print year,\"leap\"\n",
    "        else:\n",
    "            print year,\"not leap\"\n",
    "    else:\n",
    "        print year,\"leap\"\n",
    "else:\n",
    "    print year,\" is not leap\""
   ]
  },
  {
   "cell_type": "code",
   "execution_count": 5,
   "metadata": {},
   "outputs": [
    {
     "name": "stdout",
     "output_type": "stream",
     "text": [
      "enter year : 1900\n",
      "1900 not leap\n"
     ]
    }
   ],
   "source": [
    "# wap find the smallest number from 3 numbers \n",
    "# wap find the given year leap or not \n",
    "'''\n",
    "1900 --->> not leap\n",
    "2000 --->> leap\n",
    "2004 --->> leap\n",
    "2005 ---->> not leap\n",
    "'''\n",
    "year = input(\"enter year : \")\n",
    "if(year % 4 == 0):\n",
    "    if(year % 100 == 0):\n",
    "        if(year % 400 ==0):\n",
    "            print year,\"leap\"\n",
    "        else:\n",
    "            print year,\"not leap\"\n",
    "    else:\n",
    "        print year,\"leap\"\n",
    "else:\n",
    "    print year,\" is not leap\""
   ]
  },
  {
   "cell_type": "code",
   "execution_count": 6,
   "metadata": {},
   "outputs": [
    {
     "name": "stdout",
     "output_type": "stream",
     "text": [
      "enter year : 2004\n",
      "2004 leap\n"
     ]
    }
   ],
   "source": [
    "# wap find the smallest number from 3 numbers \n",
    "# wap find the given year leap or not \n",
    "'''\n",
    "1900 --->> not leap\n",
    "2000 --->> leap\n",
    "2004 --->> leap\n",
    "2005 ---->> not leap\n",
    "'''\n",
    "year = input(\"enter year : \")\n",
    "if(year % 4 == 0):\n",
    "    if(year % 100 == 0):\n",
    "        if(year % 400 ==0):\n",
    "            print year,\"leap\"\n",
    "        else:\n",
    "            print year,\"not leap\"\n",
    "    else:\n",
    "        print year,\"leap\"\n",
    "else:\n",
    "    print year,\" is not leap\""
   ]
  },
  {
   "cell_type": "code",
   "execution_count": 7,
   "metadata": {},
   "outputs": [
    {
     "name": "stdout",
     "output_type": "stream",
     "text": [
      "enter year : 2005\n",
      "2005  is not leap\n"
     ]
    }
   ],
   "source": [
    "# wap find the smallest number from 3 numbers \n",
    "# wap find the given year leap or not \n",
    "'''\n",
    "1900 --->> not leap\n",
    "2000 --->> leap\n",
    "2004 --->> leap\n",
    "2005 ---->> not leap\n",
    "'''\n",
    "year = input(\"enter year : \")\n",
    "if(year % 4 == 0):\n",
    "    if(year % 100 == 0):\n",
    "        if(year % 400 ==0):\n",
    "            print year,\"leap\"\n",
    "        else:\n",
    "            print year,\"not leap\"\n",
    "    else:\n",
    "        print year,\"leap\"\n",
    "else:\n",
    "    print year,\" is not leap\""
   ]
  },
  {
   "cell_type": "code",
   "execution_count": 4,
   "metadata": {},
   "outputs": [
    {
     "name": "stdout",
     "output_type": "stream",
     "text": [
      "enter num  : 5\n",
      "1\n",
      "2\n",
      "3\n",
      "4\n",
      "5\n",
      "if and only if while condition is failed\n",
      "Task over\n"
     ]
    }
   ],
   "source": [
    "# Looping statement\n",
    "# while \n",
    "'''\n",
    "start\n",
    "-----\n",
    "while ( cond ):\n",
    "    Task\n",
    "    ----\n",
    "    ----\n",
    "else:\n",
    "    task\n",
    "    ----\n",
    "stop\n",
    "----\n",
    "'''\n",
    "# wap print Natural number  # 1 ,2,3,4,5,6,7,-------30\n",
    "num = input(\"enter num  : \")\n",
    "i = 1\n",
    "while(i <= num ):\n",
    "    print i\n",
    "    i = i + 1\n",
    "else:\n",
    "    print \"if and only if while condition is failed\"\n",
    "print \"Task over\""
   ]
  },
  {
   "cell_type": "code",
   "execution_count": 5,
   "metadata": {},
   "outputs": [
    {
     "name": "stdout",
     "output_type": "stream",
     "text": [
      "enter num  : 10\n",
      "sum :  55\n",
      "Task over\n"
     ]
    }
   ],
   "source": [
    "# wap print the sum of 1st N natural Numbers \n",
    "num = input(\"enter num  : \")\n",
    "i = 1\n",
    "sum= 0\n",
    "while(i <= num ):\n",
    "    sum = sum + i\n",
    "    i = i + 1\n",
    "else:\n",
    "    print \"sum : \",sum\n",
    "print \"Task over\""
   ]
  },
  {
   "cell_type": "code",
   "execution_count": 1,
   "metadata": {},
   "outputs": [
    {
     "name": "stdout",
     "output_type": "stream",
     "text": [
      "enter a num : 10\n",
      "factor :  1\n",
      "factor :  2\n",
      "factor :  5\n",
      "factor :  10\n"
     ]
    }
   ],
   "source": [
    "# wap find the factors to number\n",
    "# 10 --> 1 , 2,  5, 10\n",
    "\n",
    "num = input(\"enter a num : \")\n",
    "i = 1\n",
    "while(i <= num):\n",
    "    if(num % i ==0):\n",
    "        print \"factor : \",i\n",
    "    i = i + 1    "
   ]
  },
  {
   "cell_type": "code",
   "execution_count": 3,
   "metadata": {},
   "outputs": [
    {
     "name": "stdout",
     "output_type": "stream",
     "text": [
      "enter a num : 11\n",
      "11  is prime\n"
     ]
    }
   ],
   "source": [
    "# wap find the given number is prime or not\n",
    "num = input(\"enter a num : \")\n",
    "i = 1\n",
    "f_c = 0\n",
    "while(i <= num):\n",
    "    if(num % i ==0):\n",
    "        f_c = f_c +1\n",
    "    i = i + 1   \n",
    "else:\n",
    "    if (f_c == 2):\n",
    "        print num ,\" is prime\"\n",
    "    else:\n",
    "        print num, \" is not a prime\""
   ]
  },
  {
   "cell_type": "code",
   "execution_count": 4,
   "metadata": {},
   "outputs": [
    {
     "name": "stdout",
     "output_type": "stream",
     "text": [
      "[0, 1, 2, 3, 4, 5, 6, 7, 8, 9]\n",
      "[10, 11, 12, 13, 14, 15, 16, 17, 18, 19, 20, 21, 22, 23, 24, 25, 26, 27, 28, 29]\n",
      "[10, 13, 16, 19, 22, 25, 28]\n"
     ]
    }
   ],
   "source": [
    "print range(10) # list-->0,1,2,3,4,5,6,7,8,9\n",
    "print range(10,30)#list ->10,11,12,13----,27,28,29\n",
    "print range(10,30,3)# list->10,13,16,19,21,24,27"
   ]
  },
  {
   "cell_type": "code",
   "execution_count": 5,
   "metadata": {},
   "outputs": [
    {
     "name": "stdout",
     "output_type": "stream",
     "text": [
      "hello\n",
      "ele :  12\n",
      "hello\n",
      "ele :  89\n",
      "hello\n",
      "ele :  34\n",
      "when no more updates\n"
     ]
    }
   ],
   "source": [
    "# just for loop procedure\n",
    "for  ele  in [12,89,34]:\n",
    "    print\"hello\"\n",
    "    print \"ele : \",ele\n",
    "else:\n",
    "    print \"when no more updates\""
   ]
  },
  {
   "cell_type": "code",
   "execution_count": 7,
   "metadata": {},
   "outputs": [
    {
     "name": "stdout",
     "output_type": "stream",
     "text": [
      "enter list : [12,89,34,67,33]\n",
      "even :  12\n",
      "even :  34\n"
     ]
    }
   ],
   "source": [
    "# wap print  the even numbers  from list\n",
    "list = input(\"enter list : \")\n",
    "for var in list:\n",
    "    if(var % 2 == 0):\n",
    "        print\"even : \",var\n"
   ]
  },
  {
   "cell_type": "code",
   "execution_count": 9,
   "metadata": {},
   "outputs": [
    {
     "name": "stdout",
     "output_type": "stream",
     "text": [
      "enter num : 13\n",
      "13  is prime\n"
     ]
    }
   ],
   "source": [
    "# wap find the given number is prime of not\n",
    "num = input(\"enter num : \")\n",
    "f_c =0\n",
    "for var in range(1,num+1):\n",
    "    if(num % var == 0):\n",
    "        f_c = f_c + 1\n",
    "else:\n",
    "    if (f_c == 2):\n",
    "        print num,\" is prime\"\n",
    "    else:\n",
    "        print num,\" is not a prime\""
   ]
  },
  {
   "cell_type": "code",
   "execution_count": null,
   "metadata": {},
   "outputs": [],
   "source": [
    "# wap find the factorial of number\n"
   ]
  },
  {
   "cell_type": "code",
   "execution_count": 1,
   "metadata": {},
   "outputs": [
    {
     "ename": "IndentationError",
     "evalue": "expected an indented block (<ipython-input-1-a9811dd8af40>, line 9)",
     "output_type": "error",
     "traceback": [
      "\u001b[1;36m  File \u001b[1;32m\"<ipython-input-1-a9811dd8af40>\"\u001b[1;36m, line \u001b[1;32m9\u001b[0m\n\u001b[1;33m    \u001b[0m\n\u001b[1;37m    ^\u001b[0m\n\u001b[1;31mIndentationError\u001b[0m\u001b[1;31m:\u001b[0m expected an indented block\n"
     ]
    }
   ],
   "source": [
    "# control keywords\n",
    "'''\n",
    "1. pass\n",
    "2. continue\n",
    "3. break\n",
    "'''\n",
    "# pass --->> to create a empty block\n",
    "if ( True):\n",
    "    "
   ]
  },
  {
   "cell_type": "code",
   "execution_count": 2,
   "metadata": {},
   "outputs": [],
   "source": [
    "if (True):\n",
    "    pass\n",
    "elif(True):\n",
    "    pass\n",
    "else:\n",
    "    pass\n"
   ]
  },
  {
   "cell_type": "code",
   "execution_count": 4,
   "metadata": {},
   "outputs": [
    {
     "name": "stdout",
     "output_type": "stream",
     "text": [
      "hello\n",
      "hello\n",
      "hello\n",
      "hello\n",
      "hello\n",
      "hello\n",
      "hello\n",
      "hello\n",
      "hello\n",
      "hello\n"
     ]
    }
   ],
   "source": [
    "# wap print hello 10 times with delay\n",
    "for i in range(10):\n",
    "    print \"hello\"\n",
    "    for j in range(10000000):\n",
    "        pass"
   ]
  },
  {
   "cell_type": "code",
   "execution_count": 5,
   "metadata": {},
   "outputs": [
    {
     "name": "stdout",
     "output_type": "stream",
     "text": [
      "i:  1\n",
      "i:  2\n",
      "i:  3\n",
      "i:  5\n",
      "i:  6\n",
      "i:  7\n",
      "i:  8\n",
      "i:  10\n"
     ]
    }
   ],
   "source": [
    "# continue  ---> to skip the any present interation and continue the next iteration\n",
    "# print 1 to 10 except 4 and 9\n",
    "for i in range(1,11):\n",
    "    if(i == 4 or i == 9):\n",
    "        continue\n",
    "    print \"i: \",i"
   ]
  },
  {
   "cell_type": "code",
   "execution_count": 6,
   "metadata": {},
   "outputs": [
    {
     "name": "stdout",
     "output_type": "stream",
     "text": [
      "i:  1\n",
      "i:  2\n",
      "i:  3\n",
      "i:  4\n",
      "i:  5\n"
     ]
    }
   ],
   "source": [
    "# break --->> to terminate the loop\n",
    "# print 1 to 10 after 5 stop the priting\n",
    "for i in range(1,11):\n",
    "    if(i ==6):\n",
    "        break\n",
    "    print \"i: \",i"
   ]
  },
  {
   "cell_type": "code",
   "execution_count": null,
   "metadata": {},
   "outputs": [],
   "source": [
    "# wap find the given number prime or not with break"
   ]
  }
 ],
 "metadata": {
  "kernelspec": {
   "display_name": "Python 2",
   "language": "python",
   "name": "python2"
  },
  "language_info": {
   "codemirror_mode": {
    "name": "ipython",
    "version": 2
   },
   "file_extension": ".py",
   "mimetype": "text/x-python",
   "name": "python",
   "nbconvert_exporter": "python",
   "pygments_lexer": "ipython2",
   "version": "2.7.16"
  }
 },
 "nbformat": 4,
 "nbformat_minor": 2
}
