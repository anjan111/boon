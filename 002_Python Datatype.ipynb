{
 "cells": [
  {
   "cell_type": "code",
   "execution_count": 2,
   "metadata": {},
   "outputs": [
    {
     "name": "stdout",
     "output_type": "stream",
     "text": [
      "-234\n",
      "<type 'int'>\n",
      "234\n",
      "<type 'int'>\n",
      "0\n",
      "<type 'int'>\n"
     ]
    }
   ],
   "source": [
    "# Datatype :-\n",
    "'''\n",
    "==>> Variables are stored daata\n",
    "==>> To specify the what type of data holed by variable\n",
    "1. fundamental datatype\n",
    " ===>>> A single variable can hold the single data\n",
    " 1. int\n",
    " 2. float\n",
    " 3. complex\n",
    " 4. bool\n",
    " 5. None\n",
    "\n",
    "\n",
    "2. sequencial datatype\n",
    "===>>> A single var can hold  multiple data elements\n",
    "1. str\n",
    "2. list\n",
    "3. tuple\n",
    "4. set\n",
    "5. dict\n",
    "\n",
    "'''\n",
    "# type()-->> to know the datatype\n",
    "# id() --->> to know the memory\n",
    "var = -234\n",
    "print var\n",
    "print type(var)\n",
    "var = 234\n",
    "print var\n",
    "print type(var)\n",
    "var = 0\n",
    "print var\n",
    "print type(var)"
   ]
  },
  {
   "cell_type": "code",
   "execution_count": 3,
   "metadata": {},
   "outputs": [
    {
     "name": "stdout",
     "output_type": "stream",
     "text": [
      "-23.054\n",
      "<type 'float'>\n",
      "23.0214\n",
      "<type 'float'>\n",
      "0.0\n",
      "<type 'float'>\n"
     ]
    }
   ],
   "source": [
    "var = -23.054\n",
    "print var\n",
    "print type(var)\n",
    "var = 23.0214\n",
    "print var\n",
    "print type(var)\n",
    "var = 0.00\n",
    "print var\n",
    "print type(var)"
   ]
  },
  {
   "cell_type": "code",
   "execution_count": 4,
   "metadata": {},
   "outputs": [
    {
     "name": "stdout",
     "output_type": "stream",
     "text": [
      "(34+56j)\n",
      "<type 'complex'>\n",
      "(-2.34+5.3j)\n",
      "<type 'complex'>\n",
      "0j\n",
      "<type 'complex'>\n"
     ]
    }
   ],
   "source": [
    "var = 34 +  56j\n",
    "print var\n",
    "print type(var)\n",
    "var = -2.34 + 5.3j\n",
    "print var\n",
    "print type(var)\n",
    "var = 0+0.0j\n",
    "print var\n",
    "print type(var)"
   ]
  },
  {
   "cell_type": "code",
   "execution_count": 5,
   "metadata": {},
   "outputs": [
    {
     "name": "stdout",
     "output_type": "stream",
     "text": [
      "True\n",
      "<type 'bool'>\n",
      "False\n",
      "<type 'bool'>\n",
      "None\n",
      "<type 'NoneType'>\n"
     ]
    }
   ],
   "source": [
    "var = True\n",
    "print var\n",
    "print type(var)\n",
    "var = False\n",
    "print var\n",
    "print type(var)\n",
    "var = None\n",
    "print var\n",
    "print type(var)"
   ]
  },
  {
   "cell_type": "code",
   "execution_count": 6,
   "metadata": {},
   "outputs": [
    {
     "name": "stdout",
     "output_type": "stream",
     "text": [
      "FGHdfg#$%345\n",
      "<type 'str'>\n"
     ]
    }
   ],
   "source": [
    "var = \"FGHdfg#$%345\"\n",
    "print var\n",
    "print type(var)"
   ]
  },
  {
   "cell_type": "code",
   "execution_count": 7,
   "metadata": {},
   "outputs": [
    {
     "name": "stdout",
     "output_type": "stream",
     "text": [
      "<type 'list'>\n"
     ]
    }
   ],
   "source": [
    "var = [12,23.23,5+3j,True,None]\n",
    "print type(var)"
   ]
  },
  {
   "cell_type": "code",
   "execution_count": 8,
   "metadata": {},
   "outputs": [
    {
     "name": "stdout",
     "output_type": "stream",
     "text": [
      "<type 'tuple'>\n"
     ]
    }
   ],
   "source": [
    "var = (12,23.23,5+3j,True,None)\n",
    "print type(var)"
   ]
  },
  {
   "cell_type": "code",
   "execution_count": 9,
   "metadata": {},
   "outputs": [
    {
     "name": "stdout",
     "output_type": "stream",
     "text": [
      "<type 'set'>\n"
     ]
    }
   ],
   "source": [
    "var = {12,23.23,5+3j,True,None}\n",
    "print type(var)"
   ]
  },
  {
   "cell_type": "code",
   "execution_count": 10,
   "metadata": {},
   "outputs": [
    {
     "name": "stdout",
     "output_type": "stream",
     "text": [
      "<type 'dict'>\n"
     ]
    }
   ],
   "source": [
    "var = {34 : 78.34  , \"soc\" : 56   , 67:234   ,(12,5) : {23,443}}\n",
    "print type(var)"
   ]
  },
  {
   "cell_type": "code",
   "execution_count": 11,
   "metadata": {},
   "outputs": [
    {
     "name": "stdout",
     "output_type": "stream",
     "text": [
      "enter int 789\n",
      "data in var:  789\n",
      "<type 'int'>\n",
      "memory loc :  73031000\n"
     ]
    }
   ],
   "source": [
    "# input() ---->> reading the data from keyboard\n",
    "# read int \n",
    "var = input(\"enter int \")\n",
    "print \"data in var: \", var\n",
    "print type(var)\n",
    "print \"memory loc : \",id(var)"
   ]
  },
  {
   "cell_type": "code",
   "execution_count": 12,
   "metadata": {},
   "outputs": [
    {
     "name": "stdout",
     "output_type": "stream",
     "text": [
      "enter float 34.53434\n",
      "data in var:  34.53434\n",
      "<type 'float'>\n",
      "memory loc :  73031216\n"
     ]
    }
   ],
   "source": [
    "# input() ---->> reading the data from keyboard\n",
    "# read float \n",
    "var = input(\"enter float \")\n",
    "print \"data in var: \", var\n",
    "print type(var)\n",
    "print \"memory loc : \",id(var)"
   ]
  },
  {
   "cell_type": "code",
   "execution_count": null,
   "metadata": {},
   "outputs": [],
   "source": [
    "# read complex\n",
    "# read bool\n",
    "# read None\n",
    "# read str\n",
    "# read list\n",
    "# read tuple\n",
    "# read set\n",
    "# read dict"
   ]
  }
 ],
 "metadata": {
  "kernelspec": {
   "display_name": "Python 2",
   "language": "python",
   "name": "python2"
  },
  "language_info": {
   "codemirror_mode": {
    "name": "ipython",
    "version": 2
   },
   "file_extension": ".py",
   "mimetype": "text/x-python",
   "name": "python",
   "nbconvert_exporter": "python",
   "pygments_lexer": "ipython2",
   "version": "2.7.16"
  }
 },
 "nbformat": 4,
 "nbformat_minor": 2
}
