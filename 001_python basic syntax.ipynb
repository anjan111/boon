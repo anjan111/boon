{
 "cells": [
  {
   "cell_type": "code",
   "execution_count": 1,
   "metadata": {},
   "outputs": [
    {
     "name": "stdout",
     "output_type": "stream",
     "text": [
      "hello\n",
      "123\n"
     ]
    }
   ],
   "source": [
    "# single line comment ---> we can comment only line\n",
    "# instructions --->> each and every line with in the program\n",
    "'''\n",
    "===>> Comments --->> which can't executable\n",
    "===>> statements ->> which can be executable\n",
    "'''\n",
    "print \"hello\" # print statement which is displayinh hello\n",
    "var = 123 # assign the 123 to tha variable var\n",
    "print var # access the 123 from variable var and print on screen"
   ]
  },
  {
   "cell_type": "code",
   "execution_count": 2,
   "metadata": {},
   "outputs": [
    {
     "name": "stdout",
     "output_type": "stream",
     "text": [
      "['and', 'as', 'assert', 'break', 'class', 'continue', 'def', 'del', 'elif', 'else', 'except', 'exec', 'finally', 'for', 'from', 'global', 'if', 'import', 'in', 'is', 'lambda', 'not', 'or', 'pass', 'print', 'raise', 'return', 'try', 'while', 'with', 'yield']\n",
      "31\n"
     ]
    }
   ],
   "source": [
    "# keywords\n",
    "'''\n",
    "==>> some words which are already defined \n",
    "==>> each and every keyword which having its own specific task\n",
    "==>> all keywords are available with in keyword lib\n",
    "==>> with iin keyword lib we have kwlist\n",
    "\n",
    "'''\n",
    "import   keyword\n",
    "print keyword.kwlist\n",
    "print len(keyword.kwlist)"
   ]
  },
  {
   "cell_type": "code",
   "execution_count": null,
   "metadata": {},
   "outputs": [],
   "source": [
    "# and  --->> which can used for logical and operation\n",
    "# as   --->> which is used for to alias of any thing\n",
    "# assert --> which can used for condition checking \n",
    "# break -->> to stop loop iteration\n",
    "# class -->> To create any new class\n",
    "# continue -> to skip the present iteration with in the loops and continue next iteration\n",
    "# def    -->> to create a user defining functions\n",
    "# del    ---> to delete any objects / variables\n",
    "# elif  --->> to create elif ladder conditional statement\n",
    "#  else  -->> to do the task when all options failed \n",
    "# except -->> to handle the exception\n",
    "# exec  --->\n",
    "# finally --->> with in exception hanlding concepts  \n",
    "# for  --->> to create a loop\n",
    "# global -->> create the global variable\n",
    "# if   ---->> create conditional statement\n",
    "# import -->> importing the modules / package ( libries )\n",
    "# in   --->>  membership operation\n",
    "# is   --->>  identity operation\n",
    "# lambda --> create a namelesss  function\n",
    "# not  --->> logical not operation\n",
    "# or   --->> logical or  operation\n",
    "# pass  ---> create a dummy blocks\n",
    "# print  --> displaying anything on screen\n",
    "# raise ---> raising the exception \n",
    "#  try -->> to check the runtime error( exception)\n",
    "# while --> to create a loops\n",
    "# with --> blocks names\n",
    "# yield -->>generator\n",
    "# return --> which return o function call from defination only one time and then stop the function execution"
   ]
  },
  {
   "cell_type": "code",
   "execution_count": 4,
   "metadata": {},
   "outputs": [
    {
     "name": "stdout",
     "output_type": "stream",
     "text": [
      "123\n",
      "39818416\n",
      "12.45\n",
      "69144488\n"
     ]
    }
   ],
   "source": [
    "# identifier -->> user defined words\n",
    "'''\n",
    "==>> to gave the name entities for variable , fub=nctions, class\n",
    "'''\n",
    "# rules\n",
    "'''\n",
    "==>> we can use alphabets  a-z / A-Z\n",
    "==>> we can use digits  0-9\n",
    "==>> we can use underscore _\n",
    "==>> don't use  special character\n",
    "==>> don't use keywords\n",
    "==> don't start with digit\n",
    "'''\n",
    "# variable --->> to hold the data with in memory loc\n",
    "var = 123\n",
    "# id() ---> to know the memory loc\n",
    "print var\n",
    "print id(var)\n",
    "var = 12.45\n",
    "print var\n",
    "print id(var)"
   ]
  },
  {
   "cell_type": "code",
   "execution_count": 6,
   "metadata": {},
   "outputs": [
    {
     "name": "stdout",
     "output_type": "stream",
     "text": [
      "12\n",
      "12\n",
      "23\n"
     ]
    }
   ],
   "source": [
    "a =  12\n",
    "b = 12\n",
    "print a\n",
    "print b\n",
    "print id(a)\n",
    "print id(b)\n",
    "\n"
   ]
  },
  {
   "cell_type": "code",
   "execution_count": 7,
   "metadata": {},
   "outputs": [
    {
     "name": "stdout",
     "output_type": "stream",
     "text": [
      "39814912\n",
      "39814672\n"
     ]
    }
   ],
   "source": [
    "print id(20)\n",
    "print id(30)"
   ]
  },
  {
   "cell_type": "code",
   "execution_count": 8,
   "metadata": {},
   "outputs": [
    {
     "name": "stdout",
     "output_type": "stream",
     "text": [
      "39814912\n"
     ]
    }
   ],
   "source": [
    "a = 20\n",
    "print id(a)"
   ]
  },
  {
   "cell_type": "code",
   "execution_count": 9,
   "metadata": {},
   "outputs": [
    {
     "name": "stdout",
     "output_type": "stream",
     "text": [
      "39814672\n"
     ]
    }
   ],
   "source": [
    "a  = 30\n",
    "print id(a)"
   ]
  },
  {
   "cell_type": "code",
   "execution_count": 10,
   "metadata": {},
   "outputs": [
    {
     "ename": "SyntaxError",
     "evalue": "invalid syntax (<ipython-input-10-f185d7a9c5b9>, line 1)",
     "output_type": "error",
     "traceback": [
      "\u001b[1;36m  File \u001b[1;32m\"<ipython-input-10-f185d7a9c5b9>\"\u001b[1;36m, line \u001b[1;32m1\u001b[0m\n\u001b[1;33m    5var = 34\u001b[0m\n\u001b[1;37m       ^\u001b[0m\n\u001b[1;31mSyntaxError\u001b[0m\u001b[1;31m:\u001b[0m invalid syntax\n"
     ]
    }
   ],
   "source": [
    "5var = 34\n"
   ]
  },
  {
   "cell_type": "code",
   "execution_count": 11,
   "metadata": {},
   "outputs": [
    {
     "ename": "SyntaxError",
     "evalue": "invalid syntax (<ipython-input-11-9a19be2a8c72>, line 1)",
     "output_type": "error",
     "traceback": [
      "\u001b[1;36m  File \u001b[1;32m\"<ipython-input-11-9a19be2a8c72>\"\u001b[1;36m, line \u001b[1;32m1\u001b[0m\n\u001b[1;33m    for = 123\u001b[0m\n\u001b[1;37m        ^\u001b[0m\n\u001b[1;31mSyntaxError\u001b[0m\u001b[1;31m:\u001b[0m invalid syntax\n"
     ]
    }
   ],
   "source": [
    "for = 123"
   ]
  },
  {
   "cell_type": "code",
   "execution_count": 13,
   "metadata": {},
   "outputs": [
    {
     "ename": "SyntaxError",
     "evalue": "invalid syntax (<ipython-input-13-99cf629fc9d8>, line 1)",
     "output_type": "error",
     "traceback": [
      "\u001b[1;36m  File \u001b[1;32m\"<ipython-input-13-99cf629fc9d8>\"\u001b[1;36m, line \u001b[1;32m1\u001b[0m\n\u001b[1;33m    r@r =123\u001b[0m\n\u001b[1;37m     ^\u001b[0m\n\u001b[1;31mSyntaxError\u001b[0m\u001b[1;31m:\u001b[0m invalid syntax\n"
     ]
    }
   ],
   "source": [
    "r@r =123"
   ]
  },
  {
   "cell_type": "code",
   "execution_count": 12,
   "metadata": {},
   "outputs": [
    {
     "name": "stdout",
     "output_type": "stream",
     "text": [
      "10\n"
     ]
    },
    {
     "ename": "NameError",
     "evalue": "name 'a' is not defined",
     "output_type": "error",
     "traceback": [
      "\u001b[1;31m\u001b[0m",
      "\u001b[1;31mNameError\u001b[0mTraceback (most recent call last)",
      "\u001b[1;32m<ipython-input-12-0c84b817d145>\u001b[0m in \u001b[0;36m<module>\u001b[1;34m()\u001b[0m\n\u001b[0;32m      2\u001b[0m \u001b[1;32mprint\u001b[0m \u001b[0ma\u001b[0m\u001b[1;33m\u001b[0m\u001b[0m\n\u001b[0;32m      3\u001b[0m \u001b[1;32mdel\u001b[0m \u001b[0ma\u001b[0m\u001b[1;33m\u001b[0m\u001b[0m\n\u001b[1;32m----> 4\u001b[1;33m \u001b[1;32mprint\u001b[0m \u001b[0ma\u001b[0m\u001b[1;33m\u001b[0m\u001b[0m\n\u001b[0m",
      "\u001b[1;31mNameError\u001b[0m: name 'a' is not defined"
     ]
    }
   ],
   "source": [
    "a = 10\n",
    "print a\n",
    "del a\n",
    "print a"
   ]
  },
  {
   "cell_type": "code",
   "execution_count": null,
   "metadata": {},
   "outputs": [],
   "source": []
  }
 ],
 "metadata": {
  "kernelspec": {
   "display_name": "Python 2",
   "language": "python",
   "name": "python2"
  },
  "language_info": {
   "codemirror_mode": {
    "name": "ipython",
    "version": 2
   },
   "file_extension": ".py",
   "mimetype": "text/x-python",
   "name": "python",
   "nbconvert_exporter": "python",
   "pygments_lexer": "ipython2",
   "version": "2.7.16"
  }
 },
 "nbformat": 4,
 "nbformat_minor": 2
}
